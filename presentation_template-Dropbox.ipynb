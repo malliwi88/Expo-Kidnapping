{
 "cells": [
  {
   "cell_type": "code",
   "execution_count": 8,
   "metadata": {
    "ExecuteTime": {
     "end_time": "2016-11-18T05:41:08.423583",
     "start_time": "2016-11-18T05:41:08.398370"
    },
    "collapsed": false,
    "hide_input": false,
    "slideshow": {
     "slide_type": "skip"
    }
   },
   "outputs": [
    {
     "data": {
      "text/plain": [
       "{'height': 768,\n",
       " 'overview': True,\n",
       " 'scroll': True,\n",
       " 'start_slideshow_at': 'selected',\n",
       " 'theme': 'sky',\n",
       " 'transition': 'concave',\n",
       " 'width': 1366}"
      ]
     },
     "execution_count": 8,
     "metadata": {},
     "output_type": "execute_result"
    }
   ],
   "source": [
    "from traitlets.config.manager import BaseJSONConfigManager\n",
    "#path = \"/home/damian/miniconda3/envs/rise_latest/etc/jupyter/nbconfig\"\n",
    "path = \"C:/Users/wallas/Anaconda3/etc/jupyter/nbconfig/\"\n",
    "cm = BaseJSONConfigManager(config_dir=path)\n",
    "cm.update('livereveal', {\n",
    "'theme': 'sky',\n",
    "'transition': 'concave', #default/cube/concave/zoom/page/linear/fade/\n",
    "'start_slideshow_at': 'selected',\n",
    "'overview': True,\n",
    "'width': 1366,\n",
    "'height': 768,\n",
    "'scroll': True,\n",
    "})\n",
    "\n"
   ]
  },
  {
   "cell_type": "code",
   "execution_count": 1,
   "metadata": {
    "ExecuteTime": {
     "end_time": "2016-11-21T21:15:34.325262",
     "start_time": "2016-11-21T21:15:34.268233"
    },
    "collapsed": false,
    "hide_input": false,
    "slideshow": {
     "slide_type": "skip"
    }
   },
   "outputs": [
    {
     "data": {
      "text/html": [
       "<style>.container { width:90% !important; }.rise-enabled {background-color: azure !important;    font-size: 125% !important;    background-image: url(https://dl.dropboxusercontent.com/u/49956056/expo/img/covere.jpg);    background-position: right top;    background-repeat: no-repeat;    background-origin: content-box;    padding: 5px 5px 5px 5px;}.middle{ width: 100px; height: 50px; border: solid 1px red; margin: auto;}div.text_cell_render {font-family: 'Charis SIL',width: 105ex;</style>"
      ],
      "text/plain": [
       "<IPython.core.display.HTML object>"
      ]
     },
     "metadata": {},
     "output_type": "display_data"
    }
   ],
   "source": [
    "# https://github.com/damianavila/RISE/issues/167\n",
    "from IPython.core.display import display, HTML\n",
    "display(HTML(\"<style>\\\n",
    ".container { width:90% !important; }\\\n",
    ".rise-enabled {background-color: azure !important;\\\n",
    "    font-size: 125% !important;\\\n",
    "    background-image: url(https://dl.dropboxusercontent.com/u/49956056/expo/img/covere.jpg);\\\n",
    "    background-position: right top;\\\n",
    "    background-repeat: no-repeat;\\\n",
    "    background-origin: content-box;\\\n",
    "    padding: 5px 5px 5px 5px;\\\n",
    "}\\\n",
    ".middle{ width: 100px; height: 50px; border: solid 1px red; margin: auto;}\\\n",
    "div.text_cell_render {\\\n",
    "font-family: 'Charis SIL',\\\n",
    "width: 105ex;\\\n",
    "</style>\"))\n",
    "\n",
    "# http://blog.booleanbiotech.com/ipython_notebook_tips.html\n",
    "from IPython.display import display, HTML, Image\n",
    "\n",
    "def Images(images, header=None, width=\"100%\"): # to match Image syntax\n",
    "    if type(width)==type(1): width = \"{}px\".format(width)\n",
    "    html = [\"<table style='width:{}'><tr>\".format(width)]\n",
    "    if header is not None:\n",
    "        html += [\"<th>{}</th>\".format(h) for h in header] + [\"</tr><tr>\"]\n",
    "\n",
    "    for image in images:\n",
    "        html.append(\"<td><img src='{}' /></td>\".format(image))\n",
    "    html.append(\"</tr></table>\")\n",
    "    display(HTML(''.join(html)))"
   ]
  },
  {
   "cell_type": "markdown",
   "metadata": {
    "ExecuteTime": {
     "end_time": "2016-11-12T19:34:42.399299",
     "start_time": "2016-11-12T19:34:42.373941"
    },
    "slideshow": {
     "slide_type": "slide"
    }
   },
   "source": [
    "<!-- .slide: data-state=\"no-toc-progress\" --> <!-- don't show toc progress bar on this slide -->\n",
    "\n",
    "#  Digital Kidnapping and Introduction to Open Source\n",
    "<!-- .element: class=\"no-toc-progress\" --> <!-- slide not in toc progress bar -->\n",
    "\n",
    "<P> &nbsp; <P> &nbsp; <P> &nbsp; <P>\n",
    "by: \n",
    "\n",
    "<center>\n",
    "\n",
    "<font size=\"16\"> William J. Trigos G </font><br/> <br/> <span>MsC. System Engineering</span><br/><br/> \n",
    "\n",
    "[malliwi88](https://github.com/malliwi88) | 2016-11-09 | [online][1] | [src][2]\n",
    "</center>\n",
    "\n",
    "Powered by:\n",
    "<center>\n",
    "[reveal.js][3]  [markdown][4]\n",
    "</center>\n",
    "\n",
    "[1]: https://theno.github.io/revealjs_template\n",
    "[2]: https://github.com/theno/revealjs_template\n",
    "[3]: http://lab.hakim.se/reveal-js/\n",
    "[4]: https://github.com/adam-p/markdown-here/wiki/Markdown-Cheatsheet\n"
   ]
  },
  {
   "cell_type": "markdown",
   "metadata": {
    "slideshow": {
     "slide_type": "slide"
    }
   },
   "source": [
    "<center>\n",
    "<font size=\"56pt\"> What would you do if.... </font>\n",
    "</center>\n"
   ]
  },
  {
   "cell_type": "markdown",
   "metadata": {
    "ExecuteTime": {
     "end_time": "2016-11-12T20:22:17.162816",
     "start_time": "2016-11-12T20:22:17.155098"
    },
    "slideshow": {
     "slide_type": "slide"
    }
   },
   "source": [
    "![](https://dl.dropboxusercontent.com/u/49956056/expo/img/CoverUniversityFolderFiles.png)"
   ]
  },
  {
   "cell_type": "markdown",
   "metadata": {
    "slideshow": {
     "slide_type": "slide"
    }
   },
   "source": [
    "* Or... If all your beatifull memories are broken!!!\n",
    "\n",
    "![](https://dl.dropboxusercontent.com/u/49956056/expo/img/PhotoFolder.png)"
   ]
  },
  {
   "cell_type": "markdown",
   "metadata": {
    "hide_input": true,
    "slideshow": {
     "slide_type": "slide"
    }
   },
   "source": [
    "# This kind of  virus is known as \n",
    "\n",
    "<br/>\n",
    "<br/>\n",
    "<br/>\n",
    "<font size=\"36\"> \n",
    "    <center>\n",
    "    <b> \"Ransomware\" </b>\n",
    "    </center>\n",
    "</font> \n"
   ]
  },
  {
   "cell_type": "markdown",
   "metadata": {
    "hide_input": false,
    "slideshow": {
     "slide_type": "slide"
    }
   },
   "source": [
    "#  The target : To gain slave computers (Earn Bitcoins)\n",
    "\n",
    "<center>\n",
    "<img src=\"https://dl.dropboxusercontent.com/u/49956056/expo/img/bitcoin-Malware.jpeg\"  alt=\"Smiley face\" height=\"1000\" width=\"1000\">\n",
    "</center>\n"
   ]
  },
  {
   "cell_type": "markdown",
   "metadata": {
    "ExecuteTime": {
     "end_time": "2016-11-14T11:33:49.328187",
     "start_time": "2016-11-14T11:33:49.257734"
    },
    "collapsed": true,
    "slideshow": {
     "slide_type": "slide"
    }
   },
   "source": [
    "# Why does bitcoin exist?\n",
    "\n",
    "* New digital currency.\n",
    "* Alternative of payment for e-commerce.\n",
    "* Faster transferences (avaliable 7/24)\n",
    "* Safer hash encryption in the world ( AES-256-CBC)"
   ]
  },
  {
   "cell_type": "code",
   "execution_count": 3,
   "metadata": {
    "ExecuteTime": {
     "end_time": "2016-11-20T13:10:39.864703",
     "start_time": "2016-11-20T13:10:39.853870"
    },
    "collapsed": false,
    "hide_input": true,
    "scrolled": true,
    "slideshow": {
     "slide_type": "fragment"
    }
   },
   "outputs": [
    {
     "data": {
      "text/html": [
       "<table style='width:120'><tr><th>Fast and Safe</th><th>How Bitcoin Works</th></tr><tr><td><img src='https://dl.dropboxusercontent.com/u/49956056/expo/img/Fast%20and%20Safe.jpg' /></td><td><img src='https://dl.dropboxusercontent.com/u/49956056/expo/img/How-Bitcoin-Works.png' /></td></tr></table>"
      ],
      "text/plain": [
       "<IPython.core.display.HTML object>"
      ]
     },
     "metadata": {},
     "output_type": "display_data"
    }
   ],
   "source": [
    "Images([\"https://dl.dropboxusercontent.com/u/49956056/expo/img/Fast%20and%20Safe.jpg\", \"https://dl.dropboxusercontent.com/u/49956056/expo/img/How-Bitcoin-Works.png\"],[\"Fast and Safe\", \"How Bitcoin Works\"], width=\"120\")"
   ]
  },
  {
   "cell_type": "code",
   "execution_count": 4,
   "metadata": {
    "ExecuteTime": {
     "end_time": "2016-11-18T05:38:16.695030",
     "start_time": "2016-11-18T05:38:16.673519"
    },
    "collapsed": false,
    "hide_input": true,
    "slideshow": {
     "slide_type": "skip"
    }
   },
   "outputs": [
    {
     "data": {
      "text/html": [
       "<style>.container { width:100% !important; }</style>"
      ],
      "text/plain": [
       "<IPython.core.display.HTML object>"
      ]
     },
     "metadata": {},
     "output_type": "display_data"
    }
   ],
   "source": [
    "# http://blog.booleanbiotech.com/ipython_notebook_tips.html\n",
    "from IPython.display import display, HTML, Image\n",
    "\n",
    "def Images(images, header=None, width=\"100%\"): # to match Image syntax\n",
    "    if type(width)==type(1): width = \"{}px\".format(width)\n",
    "    html = [\"<table style='width:{}'><tr>\".format(width)]\n",
    "    if header is not None:\n",
    "        html += [\"<th>{}</th>\".format(h) for h in header] + [\"</tr><tr>\"]\n",
    "\n",
    "    for image in images:\n",
    "        html.append(\"<td><img src='{}' /></td>\".format(image))\n",
    "    html.append(\"</tr></table>\")\n",
    "    display(HTML(''.join(html)))\n",
    "    \n",
    "from IPython.core.display import display, HTML\n",
    "display(HTML(\"<style>.container { width:100% !important; }</style>\"))"
   ]
  },
  {
   "cell_type": "markdown",
   "metadata": {
    "hide_input": false,
    "slideshow": {
     "slide_type": "slide"
    }
   },
   "source": [
    "# Why do people want to earn bitcoins?"
   ]
  },
  {
   "cell_type": "code",
   "execution_count": 2,
   "metadata": {
    "ExecuteTime": {
     "end_time": "2016-11-21T21:17:18.244422",
     "start_time": "2016-11-21T21:17:18.237732"
    },
    "collapsed": false,
    "hide_input": true,
    "slideshow": {
     "slide_type": "fragment"
    }
   },
   "outputs": [
    {
     "data": {
      "text/html": [
       "<table style='width:80%'><tr><th>New digital money</th><th>Safer money</th><th>Scarcer equals to more expensive</th></tr><tr><td><img src='https://dl.dropboxusercontent.com/u/49956056/expo/img/bitcoin-Crypto.jpg' /></td><td><img src='https://dl.dropboxusercontent.com/u/49956056/expo/img/bitcoin-Transfer.jpg' /></td><td><img src='https://dl.dropboxusercontent.com/u/49956056/expo/img/bitcoin-value.png' /></td></tr></table>"
      ],
      "text/plain": [
       "<IPython.core.display.HTML object>"
      ]
     },
     "metadata": {},
     "output_type": "display_data"
    }
   ],
   "source": [
    "Images([\"https://dl.dropboxusercontent.com/u/49956056/expo/img/bitcoin-Crypto.jpg\", \"https://dl.dropboxusercontent.com/u/49956056/expo/img/bitcoin-Transfer.jpg\", \"https://dl.dropboxusercontent.com/u/49956056/expo/img/bitcoin-value.png\"], [\"New digital money\", \"Safer money\" , \"Scarcer equals to more expensive\"], width=\"80%\")"
   ]
  },
  {
   "cell_type": "markdown",
   "metadata": {
    "ExecuteTime": {
     "end_time": "2016-11-12T14:10:32.377499",
     "start_time": "2016-11-12T14:10:32.371106"
    },
    "hide_input": true,
    "slideshow": {
     "slide_type": "slide"
    }
   },
   "source": [
    "# Quiz"
   ]
  },
  {
   "cell_type": "markdown",
   "metadata": {
    "hide_input": true,
    "slideshow": {
     "slide_type": "fragment"
    }
   },
   "source": [
    "# What is the target of Ransomware virus?\n",
    "\n",
    "* To burn your computer.\n",
    "* To earns bitcoin miner slaves.\n",
    "* To block your PC.\n",
    "* To encrypt your personal data (Photos, Videos, documents, etc)"
   ]
  },
  {
   "cell_type": "markdown",
   "metadata": {
    "hide_input": true,
    "slideshow": {
     "slide_type": "-"
    },
    "solution2": "hidden",
    "solution2_first": true
   },
   "source": [
    " "
   ]
  },
  {
   "cell_type": "markdown",
   "metadata": {
    "slideshow": {
     "slide_type": "-"
    },
    "solution2": "hidden"
   },
   "source": [
    "* ** To earn bitcoin miner slaves.**\n",
    "* ** To encrypt your personal data (Photos, Videos, documents, etc) **"
   ]
  },
  {
   "cell_type": "markdown",
   "metadata": {
    "slideshow": {
     "slide_type": "slide"
    }
   },
   "source": [
    "# Other insane attacks"
   ]
  },
  {
   "cell_type": "markdown",
   "metadata": {
    "hide_input": true,
    "slideshow": {
     "slide_type": "fragment"
    }
   },
   "source": [
    "* **October 21/2016**:  The servers of Dyn were the target of the largest cyber attack of its kind in history. The cyber attack kept offline USA for about 5 hours.[The guardian](https://www.theguardian.com/technology/2016/oct/26/ddos-attack-dyn-mirai-botnet)"
   ]
  },
  {
   "cell_type": "markdown",
   "metadata": {
    "hide_input": true,
    "slideshow": {
     "slide_type": "-"
    },
    "solution2": "hidden",
    "solution2_first": true
   },
   "source": [
    " "
   ]
  },
  {
   "cell_type": "code",
   "execution_count": 5,
   "metadata": {
    "ExecuteTime": {
     "end_time": "2016-11-20T13:12:52.321269",
     "start_time": "2016-11-20T13:12:52.307908"
    },
    "collapsed": false,
    "hide_input": true,
    "slideshow": {
     "slide_type": "-"
    },
    "solution2": "hidden"
   },
   "outputs": [
    {
     "data": {
      "text/html": [
       "\n",
       "        <iframe\n",
       "            width=\"1200\"\n",
       "            height=\"300\"\n",
       "            src=\"https://dl.dropboxusercontent.com/u/49956056/expo/img/DDoS%20attack%20-%20The%20Guardian.pdf\"\n",
       "            frameborder=\"0\"\n",
       "            allowfullscreen\n",
       "        ></iframe>\n",
       "        "
      ],
      "text/plain": [
       "<IPython.lib.display.IFrame at 0x7fbf54490d68>"
      ]
     },
     "execution_count": 5,
     "metadata": {},
     "output_type": "execute_result"
    }
   ],
   "source": [
    "from IPython.display import IFrame\n",
    "IFrame(\"https://dl.dropboxusercontent.com/u/49956056/expo/img/DDoS%20attack%20-%20The%20Guardian.pdf\", width=1200, height=300)"
   ]
  },
  {
   "cell_type": "markdown",
   "metadata": {
    "hide_input": true,
    "slideshow": {
     "slide_type": "-"
    },
    "solution2": "hidden",
    "solution2_first": true
   },
   "source": [
    " "
   ]
  },
  {
   "cell_type": "code",
   "execution_count": 6,
   "metadata": {
    "ExecuteTime": {
     "end_time": "2016-11-20T13:13:16.621819",
     "start_time": "2016-11-20T13:13:16.611574"
    },
    "collapsed": false,
    "hide_input": true,
    "scrolled": false,
    "slideshow": {
     "slide_type": "-"
    },
    "solution2": "hidden"
   },
   "outputs": [
    {
     "data": {
      "text/html": [
       "\n",
       "        <iframe\n",
       "            width=\"1200\"\n",
       "            height=\"300\"\n",
       "            src=\"https://dl.dropboxusercontent.com/u/49956056/expo/img/github%20-%20Buscar%20con%20Google.pdf\"\n",
       "            frameborder=\"0\"\n",
       "            allowfullscreen\n",
       "        ></iframe>\n",
       "        "
      ],
      "text/plain": [
       "<IPython.lib.display.IFrame at 0x7fbf54490c18>"
      ]
     },
     "execution_count": 6,
     "metadata": {},
     "output_type": "execute_result"
    }
   ],
   "source": [
    "IFrame(\"https://dl.dropboxusercontent.com/u/49956056/expo/img/github%20-%20Buscar%20con%20Google.pdf\", width=1200, height=300)"
   ]
  },
  {
   "cell_type": "markdown",
   "metadata": {
    "hide_input": false,
    "slideshow": {
     "slide_type": "slide"
    }
   },
   "source": [
    "# What are the solutions for ransomware???"
   ]
  },
  {
   "cell_type": "markdown",
   "metadata": {
    "ExecuteTime": {
     "end_time": "2016-11-12T14:32:51.369999",
     "start_time": "2016-11-12T14:32:51.359537"
    },
    "hide_input": false,
    "slideshow": {
     "slide_type": "fragment"
    }
   },
   "source": [
    "<center>\n",
    "<font size=12> Unfortunally...</font><br/><br/>\n",
    "\n",
    "Right now there is **anything** you can do to keep your data safe\n",
    "\n",
    "![](https://dl.dropboxusercontent.com/u/49956056/expo/img/Kidnapping.jpg)\n",
    "\n",
    "We are reaching the ** Digital Kidnapping era!!**\n",
    "\n",
    "</center>\n",
    "\n",
    "\n"
   ]
  },
  {
   "cell_type": "markdown",
   "metadata": {
    "ExecuteTime": {
     "end_time": "2016-11-12T21:26:40.076786",
     "start_time": "2016-11-12T21:26:40.068300"
    },
    "hide_input": true,
    "slideshow": {
     "slide_type": "slide"
    }
   },
   "source": [
    "## However... \n",
    "\n",
    "If you haven't been a victim yet, you should prevent it and save you data!!!\n",
    "\n",
    "These are some alternatives:\n",
    "\n",
    "<table style=\"border:none !important;\">\n",
    "<td>\n",
    "<div style=\"background-image:url('https://dl.dropboxusercontent.com/u/49956056/expo/img/cloud_storage2.jpg');background-size: 100% 100%; \n",
    "background-repeat:repeat-x;background-position:top;width:320px;height:350px;font-size:18px;\">\n",
    "    <center>\n",
    "        <b><p font-size=16; align=\"justify\">  Cloud Storage <br/>\n",
    "         Advantage: <br/><br/></p>\n",
    "         <ul>\n",
    "          <li>You have a copy of you data save and avaliable at any plave any time.</li>\n",
    "        </ul>\n",
    "         <br/>\n",
    "        <p font-size=16; align=\"justify\"> Disadvantage: <br/>\n",
    "        <ul>\n",
    "          <li>The cost increases with your storage requirements.</li>\n",
    "        </ul>\n",
    "        </b>\n",
    "    </center>\n",
    "</div>\n",
    "</td>\n",
    "\n",
    "<td>\n",
    "<div style=\"background-image:url('https://dl.dropboxusercontent.com/u/49956056/expo/img/kaspersky.jpg');background-size: 100% 100%; \n",
    "background-repeat:repeat-x;background-position:top;width:320px;height:350px;font-size:18px;\">\n",
    "    <center>\n",
    "        <b><p font-size=16; align=\"justify\"> Use powerful antivus software. <br/>\n",
    "         Advantage: <br/><br/></p>\n",
    "         <ul>\n",
    "          <li> Not many, really all antivirus are vulnerable.</li>\n",
    "        </ul>\n",
    "         <br/>\n",
    "        <p font-size=16; align=\"justify\"> Disadvantage: <br/>\n",
    "        <ul>\n",
    "          <li>The cost.</li>\n",
    "          <li>It's not a guaranty of free virus attack, the vulnerability is latent.</li>\n",
    "        </ul>\n",
    "        </b>\n",
    "    </center>\n",
    "</div>\n",
    "</td>\n",
    "\n",
    "<td>\n",
    "<div style=\"background-image:url('https://dl.dropboxusercontent.com/u/49956056/expo/img/linux.jpg');background-size: 100% 100%; \n",
    "background-repeat:repeat-x;background-position:top;width:350px;height:350px;font-size:18px;\">\n",
    "    <center>\n",
    "        <b><p font-size=16; align=\"justify\"> Leave windows OS. <br/>\n",
    "         Advantage: <br/><br/></p>\n",
    "         <ul>\n",
    "          <li> You are free of virus attacks, even if you don't have got antivirus software.</li>\n",
    "        </ul>\n",
    "         <br/>\n",
    "        <p font-size=16; align=\"justify\"> Disadvantage: <br/>\n",
    "        <ul>\n",
    "          <li> A little learning and mental gymnastics to free your mind.</li>\n",
    "        </ul>\n",
    "        </b>\n",
    "    </center>\n",
    "</div>\n",
    "</td>\n",
    "\n",
    "<table>"
   ]
  },
  {
   "cell_type": "markdown",
   "metadata": {
    "ExecuteTime": {
     "end_time": "2016-11-12T14:10:32.377499",
     "start_time": "2016-11-12T14:10:32.371106"
    },
    "slideshow": {
     "slide_type": "slide"
    }
   },
   "source": [
    "# Quiz"
   ]
  },
  {
   "cell_type": "markdown",
   "metadata": {
    "slideshow": {
     "slide_type": "-"
    }
   },
   "source": [
    "What is the most used Operating System around the world?\n",
    "* Mac OS X\n",
    "* Linux (Debian, Fedora, Ubuntu, etc)\n",
    "* Microsoft windows"
   ]
  },
  {
   "cell_type": "markdown",
   "metadata": {
    "slideshow": {
     "slide_type": "-"
    },
    "solution2": "hidden",
    "solution2_first": true
   },
   "source": [
    " "
   ]
  },
  {
   "cell_type": "markdown",
   "metadata": {
    "slideshow": {
     "slide_type": "-"
    },
    "solution2": "hidden"
   },
   "source": [
    "* **Linux (Debian, Fedora, Ubuntu, etc)**"
   ]
  },
  {
   "cell_type": "markdown",
   "metadata": {
    "slideshow": {
     "slide_type": "slide"
    }
   },
   "source": [
    "# Quiz \n",
    "\n",
    "## What kind of virus encrypt your files and ask you for money to decrypt them?\n",
    "\n",
    "* The police virus.\n",
    "* Ransonware.\n",
    "* Virus paisa.\n",
    "* DDoS Attack"
   ]
  },
  {
   "cell_type": "markdown",
   "metadata": {
    "slideshow": {
     "slide_type": "-"
    },
    "solution2": "hidden",
    "solution2_first": true
   },
   "source": [
    " "
   ]
  },
  {
   "cell_type": "markdown",
   "metadata": {
    "slideshow": {
     "slide_type": "-"
    },
    "solution2": "hidden"
   },
   "source": [
    "* **Ransonware**."
   ]
  },
  {
   "cell_type": "markdown",
   "metadata": {
    "slideshow": {
     "slide_type": "slide"
    }
   },
   "source": [
    "# Why Linux???\n",
    "\n",
    "* Is Open Source Operating System.\n",
    "* It's free of payment for use it.\n",
    "* More reliability than windows versions.\n",
    "* Lot of free software stuff and community support (many people help you).\n",
    "* More security than Windows OS.\n",
    "* Almost everything is possible in Linux, only limit is your imagination."
   ]
  },
  {
   "cell_type": "markdown",
   "metadata": {
    "slideshow": {
     "slide_type": "slide"
    }
   },
   "source": [
    "# What is Open Source?\n",
    "\n",
    "Open source is the concept behind free sharing technological information that existed long before computers.\n",
    "\n",
    "Basically comprends four laws \n",
    "* Freedom 0: Free to use the code.\n",
    "* Freedom 1: Free for access, study and modify the code. \n",
    "* Freedom 2: Free of copy and distribute the code.\n",
    "* Freedom 3: Free to publish their modifications with others."
   ]
  },
  {
   "cell_type": "markdown",
   "metadata": {
    "slideshow": {
     "slide_type": "slide"
    }
   },
   "source": [
    "# Open Source Examples\n",
    "\n",
    "This presentations is an example of *Open Source Software package* Called **Jupyter Notebook** based on ** Python Language programming **"
   ]
  },
  {
   "cell_type": "markdown",
   "metadata": {
    "ExecuteTime": {
     "end_time": "2016-11-14T14:08:13.219559",
     "start_time": "2016-11-14T14:08:13.105540"
    },
    "slideshow": {
     "slide_type": "fragment"
    }
   },
   "source": [
    "![](https://dl.dropboxusercontent.com/u/49956056/expo/img/All.png)"
   ]
  },
  {
   "cell_type": "markdown",
   "metadata": {
    "slideshow": {
     "slide_type": "slide"
    }
   },
   "source": [
    "# Quiz"
   ]
  },
  {
   "cell_type": "markdown",
   "metadata": {
    "slideshow": {
     "slide_type": "fragment"
    }
   },
   "source": [
    "## How many of these alternatives are open source?\n",
    "![](https://dl.dropboxusercontent.com/u/49956056/expo/img/Quizfin.png)"
   ]
  },
  {
   "cell_type": "markdown",
   "metadata": {
    "slideshow": {
     "slide_type": "-"
    }
   },
   "source": [
    "  "
   ]
  },
  {
   "cell_type": "markdown",
   "metadata": {
    "ExecuteTime": {
     "end_time": "2016-11-12T14:10:32.377499",
     "start_time": "2016-11-12T14:10:32.371106"
    },
    "slideshow": {
     "slide_type": "slide"
    }
   },
   "source": [
    "# Answer"
   ]
  },
  {
   "cell_type": "markdown",
   "metadata": {
    "slideshow": {
     "slide_type": "-"
    },
    "solution2": "hidden",
    "solution2_first": true
   },
   "source": [
    " "
   ]
  },
  {
   "cell_type": "markdown",
   "metadata": {
    "ExecuteTime": {
     "end_time": "2016-11-14T14:32:23.922571",
     "start_time": "2016-11-14T14:32:23.808061"
    },
    "slideshow": {
     "slide_type": "fragment"
    },
    "solution2": "hidden"
   },
   "source": [
    "![](https://dl.dropboxusercontent.com/u/49956056/expo/img/Quiz-Solve.png)"
   ]
  },
  {
   "cell_type": "markdown",
   "metadata": {
    "slideshow": {
     "slide_type": "slide"
    }
   },
   "source": [
    "<center>\n",
    "<font size=12> Any Questions ???</font><br/><br/>\n",
    "\n",
    "![](https://dl.dropboxusercontent.com/u/49956056/expo/img/linux.jpg)\n",
    "\n",
    "</center>"
   ]
  },
  {
   "cell_type": "code",
   "execution_count": null,
   "metadata": {
    "ExecuteTime": {
     "end_time": "2016-11-13T10:52:45.842885",
     "start_time": "2016-11-13T10:52:45.821441"
    },
    "collapsed": false,
    "slideshow": {
     "slide_type": "skip"
    }
   },
   "outputs": [],
   "source": []
  }
 ],
 "metadata": {
  "anaconda-cloud": {},
  "celltoolbar": "Slideshow",
  "kernelspec": {
   "display_name": "Python [default]",
   "language": "python",
   "name": "python3"
  },
  "language_info": {
   "codemirror_mode": {
    "name": "ipython",
    "version": 3
   },
   "file_extension": ".py",
   "mimetype": "text/x-python",
   "name": "python",
   "nbconvert_exporter": "python",
   "pygments_lexer": "ipython3",
   "version": "3.5.2"
  },
  "latex_envs": {
   "bibliofile": "biblio.bib",
   "cite_by": "apalike",
   "current_citInitial": 1,
   "eqLabelWithNumbers": true,
   "eqNumInitial": 0
  },
  "nav_menu": {},
  "toc": {
   "nav_menu": {
    "height": "365px",
    "width": "251px"
   },
   "navigate_menu": true,
   "number_sections": false,
   "sideBar": true,
   "threshold": 4,
   "toc_cell": false,
   "toc_section_display": "block",
   "toc_window_display": false
  }
 },
 "nbformat": 4,
 "nbformat_minor": 0
}
